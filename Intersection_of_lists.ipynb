{
  "nbformat": 4,
  "nbformat_minor": 0,
  "metadata": {
    "colab": {
      "name": "Intersection of lists.ipynb",
      "provenance": [],
      "authorship_tag": "ABX9TyOAEzs1awYjZgobSIezXCkF",
      "include_colab_link": true
    },
    "kernelspec": {
      "name": "python3",
      "display_name": "Python 3"
    },
    "language_info": {
      "name": "python"
    }
  },
  "cells": [
    {
      "cell_type": "markdown",
      "metadata": {
        "id": "view-in-github",
        "colab_type": "text"
      },
      "source": [
        "<a href=\"https://colab.research.google.com/github/anirudh4git/Repository-for-different-functions/blob/main/Intersection_of_lists.ipynb\" target=\"_parent\"><img src=\"https://colab.research.google.com/assets/colab-badge.svg\" alt=\"Open In Colab\"/></a>"
      ]
    },
    {
      "cell_type": "code",
      "metadata": {
        "id": "iIRVgK_TN-vb"
      },
      "source": [
        "list_of_lists = [[2,2,3,4,5,5,9],[3,4,5,5,11],[4,5,5,6,13]]\n",
        "list_of_lists_2 = [[2,2,2,3,4,5],[2,3,4,5,6,2,2],[2,2,6]]"
      ],
      "execution_count": null,
      "outputs": []
    },
    {
      "cell_type": "code",
      "metadata": {
        "id": "lhd3A3AgPKSw"
      },
      "source": [
        "def get_min_len_list(list_of_lists):\n",
        "  min_len = len(list_of_lists[0])\n",
        "  min_len_list = list_of_lists[0] \n",
        "  for list_ in list_of_lists:\n",
        "    if len(list_) < min_len:\n",
        "      min_len_list = list_\n",
        "  return min_len_list\n"
      ],
      "execution_count": null,
      "outputs": []
    },
    {
      "cell_type": "code",
      "metadata": {
        "colab": {
          "base_uri": "https://localhost:8080/"
        },
        "id": "ucGq1M0ePSV_",
        "outputId": "299cfcb8-aa7b-4b3b-c59c-c13b042bf8fb"
      },
      "source": [
        "min_len_list = get_min_len_list(list_of_lists)\n",
        "min_len_list"
      ],
      "execution_count": null,
      "outputs": [
        {
          "output_type": "execute_result",
          "data": {
            "text/plain": [
              "[4, 5, 5, 6, 13]"
            ]
          },
          "metadata": {
            "tags": []
          },
          "execution_count": 27
        }
      ]
    },
    {
      "cell_type": "code",
      "metadata": {
        "colab": {
          "base_uri": "https://localhost:8080/"
        },
        "id": "KlRF55wmibtG",
        "outputId": "bea8636c-3c62-4b05-e740-8e44a548d5c8"
      },
      "source": [
        "{2:2,3:1,4:1,5:1}"
      ],
      "execution_count": null,
      "outputs": [
        {
          "output_type": "execute_result",
          "data": {
            "text/plain": [
              "{2: 2, 3: 1, 4: 1, 5: 1}"
            ]
          },
          "metadata": {
            "tags": []
          },
          "execution_count": 4
        }
      ]
    },
    {
      "cell_type": "code",
      "metadata": {
        "id": "R86023nOfOoD"
      },
      "source": [
        "def get_freq_map(any_list):\n",
        "  freq_map = {}\n",
        "  for elem in any_list:\n",
        "    if elem in freq_map.keys():\n",
        "      freq_map[elem] += 1\n",
        "    else:\n",
        "      freq_map[elem] = 1\n",
        "  return freq_map"
      ],
      "execution_count": null,
      "outputs": []
    },
    {
      "cell_type": "code",
      "metadata": {
        "colab": {
          "base_uri": "https://localhost:8080/"
        },
        "id": "2WZXW3MMLFL5",
        "outputId": "ee2a88b5-4419-4c03-9c8b-9fc312cce1e9"
      },
      "source": [
        "get_freq_map([2,3,4,5,6,7,7,7,7,88,9,3,2])"
      ],
      "execution_count": null,
      "outputs": [
        {
          "output_type": "execute_result",
          "data": {
            "text/plain": [
              "{2: 2, 3: 2, 4: 1, 5: 1, 6: 1, 7: 4, 9: 1, 88: 1}"
            ]
          },
          "metadata": {
            "tags": []
          },
          "execution_count": 33
        }
      ]
    },
    {
      "cell_type": "code",
      "metadata": {
        "id": "uuDQAaeqLE0g"
      },
      "source": [
        "min_len_list_freq_map = get_freq_map(min_len_list)"
      ],
      "execution_count": null,
      "outputs": []
    },
    {
      "cell_type": "code",
      "metadata": {
        "colab": {
          "base_uri": "https://localhost:8080/"
        },
        "id": "zRmLfbWjLlpi",
        "outputId": "94ab0ca7-42f5-4ae1-ad3f-abbd018c2f4c"
      },
      "source": [
        "min_len_list_freq_map"
      ],
      "execution_count": null,
      "outputs": [
        {
          "output_type": "execute_result",
          "data": {
            "text/plain": [
              "{4: 1, 5: 2, 6: 1, 13: 1}"
            ]
          },
          "metadata": {
            "tags": []
          },
          "execution_count": 48
        }
      ]
    },
    {
      "cell_type": "code",
      "metadata": {
        "id": "AWlKpZp7LpyP"
      },
      "source": [
        "def update_freq_map(freq_dict,list_of_lists):\n",
        "  for key,value in freq_dict.items():\n",
        "    for list_ in list_of_lists:\n",
        "      if value > list_.count(key):\n",
        "        freq_dict[key] = list_.count(key)\n",
        "  return freq_dict\n",
        "    \n"
      ],
      "execution_count": null,
      "outputs": []
    },
    {
      "cell_type": "code",
      "metadata": {
        "id": "Xob2f73-L59b"
      },
      "source": [
        "final_freq_map = update_freq_map(min_len_list_freq_map,list_of_lists)"
      ],
      "execution_count": null,
      "outputs": []
    },
    {
      "cell_type": "code",
      "metadata": {
        "colab": {
          "base_uri": "https://localhost:8080/"
        },
        "id": "US6eV577Rr0a",
        "outputId": "083cdf5f-9fae-45b8-ad3d-bea9a055ed9b"
      },
      "source": [
        "final_freq_map"
      ],
      "execution_count": null,
      "outputs": [
        {
          "output_type": "execute_result",
          "data": {
            "text/plain": [
              "{4: 1, 5: 2, 6: 0, 13: 0}"
            ]
          },
          "metadata": {
            "tags": []
          },
          "execution_count": 52
        }
      ]
    },
    {
      "cell_type": "code",
      "metadata": {
        "id": "BYiRK4h6OpHe"
      },
      "source": [
        "def get_intersection_list(final_freq_map):\n",
        "  intersection_list = []\n",
        "  for key,value in final_freq_map.items():\n",
        "    intersection_list = intersection_list + [key]*value\n",
        "  return intersection_list"
      ],
      "execution_count": null,
      "outputs": []
    },
    {
      "cell_type": "code",
      "metadata": {
        "colab": {
          "base_uri": "https://localhost:8080/"
        },
        "id": "_1p0uZIhPrHn",
        "outputId": "81fde2fe-188d-4b28-db19-b1395f5990ba"
      },
      "source": [
        "intersection_list"
      ],
      "execution_count": null,
      "outputs": [
        {
          "output_type": "execute_result",
          "data": {
            "text/plain": [
              "[4, 5, 5]"
            ]
          },
          "metadata": {
            "tags": []
          },
          "execution_count": 54
        }
      ]
    },
    {
      "cell_type": "code",
      "metadata": {
        "colab": {
          "base_uri": "https://localhost:8080/"
        },
        "id": "EjuP_4laQEdV",
        "outputId": "faacfba2-5dcf-4c45-b46a-4419aaeb551b"
      },
      "source": [
        "get_intersection_list(final_freq_map)"
      ],
      "execution_count": null,
      "outputs": [
        {
          "output_type": "execute_result",
          "data": {
            "text/plain": [
              "[4, 5, 5]"
            ]
          },
          "metadata": {
            "tags": []
          },
          "execution_count": 56
        }
      ]
    },
    {
      "cell_type": "code",
      "metadata": {
        "id": "x3PbDXvsSLLT"
      },
      "source": [
        "# final function for getting intersection of lists\n",
        "\n",
        "def intersection_of_lists(list_of_lists):\n",
        "  min_len_list = get_min_len_list(list_of_lists)\n",
        "  min_len_list_freq_map = get_freq_map(min_len_list)\n",
        "  final_freq_map = update_freq_map(min_len_list_freq_map,list_of_lists)\n",
        "  intersection_list = get_intersection_list(final_freq_map)\n",
        "  return intersection_list"
      ],
      "execution_count": null,
      "outputs": []
    },
    {
      "cell_type": "code",
      "metadata": {
        "id": "McIU0nRxTRU5"
      },
      "source": [
        "final_answer = intersection_of_lists(list_of_lists)\n",
        "final_answer_2 = intersection_of_lists(list_of_lists_2)"
      ],
      "execution_count": null,
      "outputs": []
    },
    {
      "cell_type": "code",
      "metadata": {
        "colab": {
          "base_uri": "https://localhost:8080/"
        },
        "id": "SZhEdyTCTbUJ",
        "outputId": "c97a8882-8221-4cb2-f414-0c33c02c3fb9"
      },
      "source": [
        "print(final_answer)\n",
        "print(final_answer_2)"
      ],
      "execution_count": null,
      "outputs": [
        {
          "output_type": "stream",
          "text": [
            "[4, 5, 5]\n",
            "[2, 2]\n"
          ],
          "name": "stdout"
        }
      ]
    },
    {
      "cell_type": "code",
      "metadata": {
        "id": "F9NlLMiuTcyQ"
      },
      "source": [
        ""
      ],
      "execution_count": null,
      "outputs": []
    }
  ]
}